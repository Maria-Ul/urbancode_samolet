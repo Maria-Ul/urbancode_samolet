{
  "nbformat": 4,
  "nbformat_minor": 0,
  "metadata": {
    "colab": {
      "provenance": [],
      "collapsed_sections": [
        "rPDiAXy0-jjK"
      ],
      "include_colab_link": true
    },
    "kernelspec": {
      "name": "python3",
      "display_name": "Python 3"
    },
    "language_info": {
      "name": "python"
    }
  },
  "cells": [
    {
      "cell_type": "markdown",
      "metadata": {
        "id": "view-in-github",
        "colab_type": "text"
      },
      "source": [
        "<a href=\"https://colab.research.google.com/github/albivaltzew/urbancode_samolet/blob/main/augment_coco_ipynb%22.ipynb\" target=\"_parent\"><img src=\"https://colab.research.google.com/assets/colab-badge.svg\" alt=\"Open In Colab\"/></a>"
      ]
    },
    {
      "cell_type": "code",
      "execution_count": 1,
      "metadata": {
        "colab": {
          "base_uri": "https://localhost:8080/"
        },
        "id": "V_Y0pxwc0WZM",
        "outputId": "ebd3bd6c-c9c6-4e09-9406-0b8b2c8c772b"
      },
      "outputs": [
        {
          "output_type": "stream",
          "name": "stdout",
          "text": [
            "Mounted at /content/drive/\n"
          ]
        }
      ],
      "source": [
        "from google.colab import drive\n",
        "drive.mount('/content/drive/')"
      ]
    },
    {
      "cell_type": "code",
      "source": [
        "import cv2\n",
        "import numpy as np\n",
        "import os\n",
        "import albumentations as A\n",
        "from google.colab.patches import cv2_imshow"
      ],
      "metadata": {
        "id": "UvGuzwsv9WlV"
      },
      "execution_count": 2,
      "outputs": []
    },
    {
      "cell_type": "code",
      "source": [
        "num_augmented_images = 10"
      ],
      "metadata": {
        "id": "uKAzzIAO97Gh"
      },
      "execution_count": 11,
      "outputs": []
    },
    {
      "cell_type": "code",
      "source": [
        "class_labels = [\"window\", \"empty\", \"filled\"]\n"
      ],
      "metadata": {
        "id": "YeKxzbui-JUK"
      },
      "execution_count": 4,
      "outputs": []
    },
    {
      "cell_type": "markdown",
      "source": [
        "# read from coco"
      ],
      "metadata": {
        "id": "yJnVtutuyF4b"
      }
    },
    {
      "cell_type": "code",
      "source": [
        "pip install opencv-python-headless numpy pycocotools\n"
      ],
      "metadata": {
        "colab": {
          "base_uri": "https://localhost:8080/"
        },
        "id": "6Pgx6jPD61gj",
        "outputId": "16578d25-409e-4954-d3a0-3d907d6245e7"
      },
      "execution_count": 5,
      "outputs": [
        {
          "output_type": "stream",
          "name": "stdout",
          "text": [
            "Requirement already satisfied: opencv-python-headless in /usr/local/lib/python3.10/dist-packages (4.8.0.76)\n",
            "Requirement already satisfied: numpy in /usr/local/lib/python3.10/dist-packages (1.23.5)\n",
            "Requirement already satisfied: pycocotools in /usr/local/lib/python3.10/dist-packages (2.0.7)\n",
            "Requirement already satisfied: matplotlib>=2.1.0 in /usr/local/lib/python3.10/dist-packages (from pycocotools) (3.7.1)\n",
            "Requirement already satisfied: contourpy>=1.0.1 in /usr/local/lib/python3.10/dist-packages (from matplotlib>=2.1.0->pycocotools) (1.1.0)\n",
            "Requirement already satisfied: cycler>=0.10 in /usr/local/lib/python3.10/dist-packages (from matplotlib>=2.1.0->pycocotools) (0.11.0)\n",
            "Requirement already satisfied: fonttools>=4.22.0 in /usr/local/lib/python3.10/dist-packages (from matplotlib>=2.1.0->pycocotools) (4.42.1)\n",
            "Requirement already satisfied: kiwisolver>=1.0.1 in /usr/local/lib/python3.10/dist-packages (from matplotlib>=2.1.0->pycocotools) (1.4.5)\n",
            "Requirement already satisfied: packaging>=20.0 in /usr/local/lib/python3.10/dist-packages (from matplotlib>=2.1.0->pycocotools) (23.1)\n",
            "Requirement already satisfied: pillow>=6.2.0 in /usr/local/lib/python3.10/dist-packages (from matplotlib>=2.1.0->pycocotools) (9.4.0)\n",
            "Requirement already satisfied: pyparsing>=2.3.1 in /usr/local/lib/python3.10/dist-packages (from matplotlib>=2.1.0->pycocotools) (3.1.1)\n",
            "Requirement already satisfied: python-dateutil>=2.7 in /usr/local/lib/python3.10/dist-packages (from matplotlib>=2.1.0->pycocotools) (2.8.2)\n",
            "Requirement already satisfied: six>=1.5 in /usr/local/lib/python3.10/dist-packages (from python-dateutil>=2.7->matplotlib>=2.1.0->pycocotools) (1.16.0)\n"
          ]
        }
      ]
    },
    {
      "cell_type": "code",
      "source": [
        "!pip install --upgrade albumentations\n"
      ],
      "metadata": {
        "colab": {
          "base_uri": "https://localhost:8080/"
        },
        "id": "BvHRsmMU8xGh",
        "outputId": "a97571ec-18f0-416b-bcc3-a39436badae9"
      },
      "execution_count": 6,
      "outputs": [
        {
          "output_type": "stream",
          "name": "stdout",
          "text": [
            "Requirement already satisfied: albumentations in /usr/local/lib/python3.10/dist-packages (1.3.1)\n",
            "Requirement already satisfied: numpy>=1.11.1 in /usr/local/lib/python3.10/dist-packages (from albumentations) (1.23.5)\n",
            "Requirement already satisfied: scipy>=1.1.0 in /usr/local/lib/python3.10/dist-packages (from albumentations) (1.11.2)\n",
            "Requirement already satisfied: scikit-image>=0.16.1 in /usr/local/lib/python3.10/dist-packages (from albumentations) (0.19.3)\n",
            "Requirement already satisfied: PyYAML in /usr/local/lib/python3.10/dist-packages (from albumentations) (6.0.1)\n",
            "Requirement already satisfied: qudida>=0.0.4 in /usr/local/lib/python3.10/dist-packages (from albumentations) (0.0.4)\n",
            "Requirement already satisfied: opencv-python-headless>=4.1.1 in /usr/local/lib/python3.10/dist-packages (from albumentations) (4.8.0.76)\n",
            "Requirement already satisfied: scikit-learn>=0.19.1 in /usr/local/lib/python3.10/dist-packages (from qudida>=0.0.4->albumentations) (1.2.2)\n",
            "Requirement already satisfied: typing-extensions in /usr/local/lib/python3.10/dist-packages (from qudida>=0.0.4->albumentations) (4.5.0)\n",
            "Requirement already satisfied: networkx>=2.2 in /usr/local/lib/python3.10/dist-packages (from scikit-image>=0.16.1->albumentations) (3.1)\n",
            "Requirement already satisfied: pillow!=7.1.0,!=7.1.1,!=8.3.0,>=6.1.0 in /usr/local/lib/python3.10/dist-packages (from scikit-image>=0.16.1->albumentations) (9.4.0)\n",
            "Requirement already satisfied: imageio>=2.4.1 in /usr/local/lib/python3.10/dist-packages (from scikit-image>=0.16.1->albumentations) (2.31.3)\n",
            "Requirement already satisfied: tifffile>=2019.7.26 in /usr/local/lib/python3.10/dist-packages (from scikit-image>=0.16.1->albumentations) (2023.8.30)\n",
            "Requirement already satisfied: PyWavelets>=1.1.1 in /usr/local/lib/python3.10/dist-packages (from scikit-image>=0.16.1->albumentations) (1.4.1)\n",
            "Requirement already satisfied: packaging>=20.0 in /usr/local/lib/python3.10/dist-packages (from scikit-image>=0.16.1->albumentations) (23.1)\n",
            "Requirement already satisfied: joblib>=1.1.1 in /usr/local/lib/python3.10/dist-packages (from scikit-learn>=0.19.1->qudida>=0.0.4->albumentations) (1.3.2)\n",
            "Requirement already satisfied: threadpoolctl>=2.0.0 in /usr/local/lib/python3.10/dist-packages (from scikit-learn>=0.19.1->qudida>=0.0.4->albumentations) (3.2.0)\n"
          ]
        }
      ]
    },
    {
      "cell_type": "code",
      "source": [
        "from pycocotools.coco import COCO\n",
        "\n",
        "\n",
        "\n",
        "COCO_ANNO_PATH = '/content/drive/MyDrive/urbancode/urbanhack-train/annotations_default/instances_default.json'\n",
        "COCO_IMG_PATH  = '/content/drive/MyDrive/urbancode/urbanhack-train/images_default'\n",
        "\n",
        "coco = COCO(COCO_ANNO_PATH)"
      ],
      "metadata": {
        "id": "9cf5T5m3qumR",
        "colab": {
          "base_uri": "https://localhost:8080/"
        },
        "outputId": "491ebaf2-0814-4217-c607-2d71df4fd7e8"
      },
      "execution_count": 13,
      "outputs": [
        {
          "output_type": "stream",
          "name": "stdout",
          "text": [
            "loading annotations into memory...\n",
            "Done (t=0.59s)\n",
            "creating index...\n",
            "index created!\n"
          ]
        }
      ]
    },
    {
      "cell_type": "markdown",
      "source": [
        "# coco *save* in coco format"
      ],
      "metadata": {
        "id": "rPDiAXy0-jjK"
      }
    },
    {
      "cell_type": "code",
      "source": [
        "# Apply augmentation techniques to images and store them\n",
        "augmented_images = []\n",
        "updated_annotations = []\n",
        "# Perform augmentation and update annotations\n",
        "l = 0\n",
        "for image_id in (coco.imgs.keys()):\n",
        "    l+=1\n",
        "    print(l)\n",
        "    image_info = coco.imgs[image_id]\n",
        "    annotations = coco.loadAnns(coco.getAnnIds([image_id]))\n",
        "    image = cv2.imread(f'{COCO_IMG_PATH}/{image_info[\"file_name\"]}')\n",
        "    print(f'{COCO_IMG_PATH}/{image_info[\"file_name\"]}')\n",
        "\n",
        "    # Apply augmentation techniques (e.g., rotation, flipping, scaling)\n",
        "    bboxes = []\n",
        "    class_categories = []\n",
        "    for i in range(len(annotations)):\n",
        "          bboxes.append(annotations[i][\"bbox\"])\n",
        "          class_categories.append(annotations[i]['category_id'])\n",
        "\n",
        "\n",
        "    transform = A.Compose([\n",
        "        A.HorizontalFlip(p=0.5),\n",
        "        A.Rotate(limit=30, p=0.2),\n",
        "        A.OneOf([\n",
        "            A.RandomBrightnessContrast(p=0.5),\n",
        "            A.ColorJitter(brightness=0.2, contrast=0.2, saturation=0.2, hue=0.2, p=0.5), # изменение цвета\n",
        "            A.augmentations.transforms.GaussNoise(var_limit=(10,50),mean=0,p=0.5), # шум гаусса\n",
        "            A.augmentations.transforms.CLAHE (clip_limit=4.0, tile_grid_size=(8, 8), always_apply=False, p=0.5)\n",
        "        ], p=0.3),\n",
        "        A.Blur(blur_limit=3, p=0.1), # Размытие\n",
        "        # A.augmentations.transforms.Equalize(),\n",
        "        A.augmentations.geometric.transforms.Affine(p=0.1, shear={'x': (-30, 30), 'y': (-30, 30)}),\n",
        "        A.OneOf([\n",
        "            A.augmentations.transforms.ToGray(p=0.2), # оттенки серого\n",
        "            A.RandomRain(brightness_coefficient=0.9, drop_width=1, blur_value=3, p=0.2), # добавляет дождь\n",
        "            A.RandomSnow(brightness_coeff=2.5, snow_point_lower=0.3, snow_point_upper=0.5, p=0.2), #Добавляет снег\n",
        "            A.RandomFog(fog_coef_lower=0.3, fog_coef_upper=0.6, alpha_coef=0.1, p=0.2), # туман\n",
        "            A.RandomSunFlare(flare_roi=(0, 0, 1, 0.5), angle_lower=0.5, p=0.22), # солнечные блики\n",
        "        ],p=0.3),\n",
        "    ], bbox_params=A.BboxParams(format='coco', min_area=1024, min_visibility=0.3, label_fields=['class_categories']))\n",
        "\n",
        "    for _ in range(num_augmented_images):\n",
        "        augmented = transform(image=image, bboxes=bboxes,  class_categories=class_categories)\n",
        "        augmented_image = augmented['image']\n",
        "        augmented_bboxes = augmented['bboxes']\n",
        "        augmented_categories = augmented['class_categories']\n",
        "        augmented_images.append(augmented_image)\n",
        "\n",
        "\n",
        "        # Create a new annotation entry for the augmented image\n",
        "        updated_annotation = []\n",
        "        for i in range(len(augmented_bboxes)):\n",
        "\n",
        "          updated_ann = {\n",
        "              'image_id': annotations[i]['image_id'],\n",
        "              'category_id': augmented_categories[i],\n",
        "              'id':i+1,  # Make sure to keep the original ID\n",
        "              'bbox': augmented_bboxes[i],\n",
        "              'area': augmented_bboxes[i][2]*augmented_bboxes[i][3],  # You may need to adjust this depending on the augmentation\n",
        "              'segmentation': annotations[i]['segmentation'],  # You may need to adjust this depending on the augmentation\n",
        "              'iscrowd': annotations[i]['iscrowd'],  # You may need to adjust this depending on the augmentation\n",
        "          }\n",
        "\n",
        "          # Append updated annotation to the list\n",
        "          updated_annotation.append(updated_ann)\n",
        "    updated_annotations.append(updated_annotation)\n",
        "\n",
        "\n"
      ],
      "metadata": {
        "id": "pQJ3Bikh8O7H"
      },
      "execution_count": null,
      "outputs": []
    },
    {
      "cell_type": "code",
      "source": [
        "import json"
      ],
      "metadata": {
        "id": "ZjWF8l-CAOR-"
      },
      "execution_count": null,
      "outputs": []
    },
    {
      "cell_type": "code",
      "source": [
        "# Create updated annotations dictionary\n",
        "updated_annotations_data = {\n",
        "    'images': coco.dataset['images'],\n",
        "    'annotations': updated_annotations,\n",
        "    'categories': coco.dataset['categories']\n",
        "}\n",
        "\n",
        "# Save the updated annotations in COCO format\n",
        "with open('/content/drive/MyDrive/urbancode/urbanhack-train/updated_annotations.json', 'w') as f:\n",
        "    json.dump(updated_annotations_data, f)\n"
      ],
      "metadata": {
        "id": "CIRV0a0Q-2Pr"
      },
      "execution_count": null,
      "outputs": []
    },
    {
      "cell_type": "code",
      "source": [
        "augmented_images_directory = \"/content/drive/MyDrive/urbancode/urbanhack-train/augmented_images_new\"\n",
        "os.mkdir(augmented_images_directory)\n",
        "for i, augmented_image in enumerate(augmented_images):\n",
        "    cv2.imwrite(os.path.join(augmented_images_directory, f\"augmented_image_{i}.jpg\"), augmented_image)\n"
      ],
      "metadata": {
        "id": "PJObD-KY8Spy"
      },
      "execution_count": null,
      "outputs": []
    },
    {
      "cell_type": "markdown",
      "source": [
        "# coco *save* in yolo"
      ],
      "metadata": {
        "id": "niidneMW-agY"
      }
    },
    {
      "cell_type": "code",
      "source": [
        "import os\n",
        "\n",
        "# Define the function to convert COCO annotations to YOLO format\n",
        "def coco_to_yolo(bbox, category_id, image_width, image_height):\n",
        "    x_center = (bbox[0] + bbox[2]) / 2\n",
        "    y_center = (bbox[1] + bbox[3]) / 2\n",
        "    width = bbox[2]\n",
        "    height = bbox[3]\n",
        "\n",
        "    # Normalize coordinates\n",
        "    x_center /= image_width\n",
        "    y_center /= image_height\n",
        "    width /= image_width\n",
        "    height /= image_height\n",
        "\n",
        "    return f\"{category_id} {x_center} {y_center} {width} {height}\"\n",
        "\n"
      ],
      "metadata": {
        "id": "ymAHD8VG_gDQ"
      },
      "execution_count": 14,
      "outputs": []
    },
    {
      "cell_type": "code",
      "source": [
        "# Create a directory to store YOLO annotations\n",
        "augmented_labels_directory  = \"/content/drive/MyDrive/urbancode/urbanhack-train/augmented_data_yolo_3/labels\"\n",
        "os.makedirs(augmented_labels_directory , exist_ok=True)\n",
        "augmented_images_directory = \"/content/drive/MyDrive/urbancode/urbanhack-train/augmented_data_yolo_3/images\"\n",
        "os.mkdir(augmented_images_directory)"
      ],
      "metadata": {
        "id": "t6dCZXFjBARZ"
      },
      "execution_count": 20,
      "outputs": []
    },
    {
      "cell_type": "code",
      "source": [
        "# Apply augmentation techniques to images and store them\n",
        "augmented_images = []\n",
        "# Perform augmentation and update annotations\n",
        "for (l, image_id) in enumerate(coco.imgs.keys()):\n",
        "    image_info = coco.imgs[image_id+166]\n",
        "    annotations = coco.loadAnns(coco.getAnnIds([image_id+166]))\n",
        "    image = cv2.imread(f'{COCO_IMG_PATH}/{image_info[\"file_name\"]}')\n",
        "    print(image_info[\"file_name\"])\n",
        "    # Apply augmentation techniques (e.g., rotation, flipping, scaling)\n",
        "    bboxes = []\n",
        "    class_categories = []\n",
        "    for i in range(len(annotations)):\n",
        "          bboxes.append(annotations[i][\"bbox\"])\n",
        "          class_categories.append(annotations[i]['category_id'])\n",
        "\n",
        "\n",
        "    transform = A.Compose([\n",
        "        A.HorizontalFlip(p=0.5),\n",
        "        A.Rotate(limit=30, p=0.2),\n",
        "        A.OneOf([\n",
        "            A.RandomBrightnessContrast(p=0.5),\n",
        "            A.ColorJitter(brightness=0.2, contrast=0.2, saturation=0.2, hue=0.2, p=0.5), # изменение цвета\n",
        "            A.augmentations.transforms.GaussNoise(var_limit=(10,50),mean=0,p=0.5), # шум гаусса\n",
        "            A.augmentations.transforms.CLAHE (clip_limit=4.0, tile_grid_size=(8, 8), always_apply=False, p=0.5)\n",
        "        ], p=0.3),\n",
        "        A.Blur(blur_limit=3, p=0.1), # Размытие\n",
        "        # A.augmentations.transforms.Equalize(),\n",
        "        A.augmentations.geometric.transforms.Affine(p=0.1, shear={'x': (-30, 30), 'y': (-30, 30)}),\n",
        "        A.OneOf([\n",
        "            A.augmentations.transforms.ToGray(p=0.2), # оттенки серого\n",
        "            A.RandomRain(brightness_coefficient=0.9, drop_width=1, blur_value=3, p=0.2), # добавляет дождь\n",
        "            A.RandomSnow(brightness_coeff=2.5, snow_point_lower=0.3, snow_point_upper=0.5, p=0.2), #Добавляет снег\n",
        "            A.RandomFog(fog_coef_lower=0.3, fog_coef_upper=0.6, alpha_coef=0.1, p=0.2), # туман\n",
        "            A.RandomSunFlare(flare_roi=(0, 0, 1, 0.5), angle_lower=0.5, p=0.22), # солнечные блики\n",
        "        ],p=0.3),\n",
        "    ], bbox_params=A.BboxParams(format='coco', min_area=1024, min_visibility=0.3, label_fields=['class_categories']))\n",
        "\n",
        "    for j in range(num_augmented_images):\n",
        "        augmented = transform(image=image, bboxes=bboxes,  class_categories=class_categories)\n",
        "        augmented_image = augmented['image']\n",
        "        augmented_bboxes = augmented['bboxes']\n",
        "        augmented_categories = augmented['class_categories']\n",
        "        augmented_images.append(augmented_image)\n",
        "        num_im = l+j\n",
        "        cv2.imwrite(os.path.join(augmented_images_directory, image_info[\"file_name\"][:-4] + f\"augmented_image_{num_im}.jpg\"), augmented_image)\n",
        "        # Create an annotation file for each image\n",
        "        annotation_file_name = os.path.join(augmented_labels_directory, (image_info[\"file_name\"][:-4] + f\"augmented_image_{num_im}\" + \".txt\"))\n",
        "        # Iterate over annotations and save YOLO format annotations\n",
        "        for i in range(len(augmented_bboxes)):\n",
        "            image_width = augmented_image.shape[0]\n",
        "            image_height = augmented_image.shape[1]\n",
        "            bbox = augmented_bboxes[i]\n",
        "            category_id = augmented_categories[i]\n",
        "            yolo_annotation = coco_to_yolo(bbox, category_id, image_width, image_height)\n",
        "            # Write YOLO annotation to file\n",
        "            with open(annotation_file_name, 'a') as f:\n",
        "                f.write(yolo_annotation + '\\n')\n",
        "\n",
        "\n",
        "\n"
      ],
      "metadata": {
        "id": "amC_vN0KEDdq"
      },
      "execution_count": null,
      "outputs": []
    },
    {
      "cell_type": "markdown",
      "source": [
        "аугментировали 166 картинков"
      ],
      "metadata": {
        "id": "gKHqmFXFV5ny"
      }
    },
    {
      "cell_type": "markdown",
      "source": [
        "81"
      ],
      "metadata": {
        "id": "1dqgC3deB1Mn"
      }
    },
    {
      "cell_type": "code",
      "source": [
        "81"
      ],
      "metadata": {
        "id": "DP01P2ooB0W0"
      },
      "execution_count": null,
      "outputs": []
    },
    {
      "cell_type": "markdown",
      "source": [
        "# from yolo to yolo"
      ],
      "metadata": {
        "id": "uNqnhhSHzbl6"
      }
    },
    {
      "cell_type": "code",
      "source": [
        "# Create a directory to store YOLO annotations\n",
        "augmented_labels_directory  = \"/content/drive/MyDrive/urbancode/urbanhack-train/augmented_data_yolo_2/labels\"\n",
        "os.makedirs(augmented_labels_directory , exist_ok=True)\n",
        "augmented_images_directory = \"/content/drive/MyDrive/urbancode/urbanhack-train/augmented_data_yolo_2/images\"\n",
        "os.makedirs(augmented_images_directory, exist_ok=True)"
      ],
      "metadata": {
        "id": "MX27eqDs2I3O"
      },
      "execution_count": null,
      "outputs": []
    },
    {
      "cell_type": "code",
      "source": [],
      "metadata": {
        "id": "wMtuNdC_OCEd"
      },
      "execution_count": null,
      "outputs": []
    },
    {
      "cell_type": "code",
      "source": [
        "directory_to_extract_to = '/content/labels'"
      ],
      "metadata": {
        "id": "xr1W4-dJN-p3"
      },
      "execution_count": null,
      "outputs": []
    },
    {
      "cell_type": "code",
      "source": [
        "os.makedirs(directory_to_extract_to, exist_ok=True)"
      ],
      "metadata": {
        "id": "N8Ro9uGuOCcX"
      },
      "execution_count": null,
      "outputs": []
    },
    {
      "cell_type": "code",
      "source": [
        "path_to_zip_file = '/content/drive/MyDrive/urbancode/urbanhack-train/add_ann_yolo.zip'"
      ],
      "metadata": {
        "id": "eSelPeQ2OHM3"
      },
      "execution_count": null,
      "outputs": []
    },
    {
      "cell_type": "code",
      "source": [
        "import zipfile\n",
        "with zipfile.ZipFile(path_to_zip_file, 'r') as zip_ref:\n",
        "    zip_ref.extractall(directory_to_extract_to)"
      ],
      "metadata": {
        "id": "xyvANicLN9W4"
      },
      "execution_count": null,
      "outputs": []
    },
    {
      "cell_type": "code",
      "source": [
        "images_path = '/content/drive/MyDrive/urbancode/urbanhack-train/urbanhack_additional'\n",
        "labels_path = '/content/labels/obj_Train_data/urbanhack_additional'\n",
        "labels_names = os.listdir(labels_path)\n",
        "images_names = os.listdir(images_path)\n",
        "augmented_images = []"
      ],
      "metadata": {
        "id": "2j0r0M01_G-K"
      },
      "execution_count": null,
      "outputs": []
    },
    {
      "cell_type": "code",
      "source": [
        "for l in range(len(images_names)):\n",
        "  image_path = os.path.join(images_path, images_names[l])\n",
        "  label_path = os.path.join(labels_path, (images_names[l][:-3]+'txt'))\n",
        "  # print(label_path, '\\n', image_path)\n",
        "  img = cv2.imread(image_path)\n",
        "\n",
        "  with open(label_path) as f:\n",
        "    lines = f.readlines()\n",
        "  bboxes = []\n",
        "  class_categories = []\n",
        "  for line in lines:\n",
        "    line = [abs(float(el)) for el in np.array(line.split())]\n",
        "    bbox = line[1:]\n",
        "    bbox = [max(min(x, 1.0), 0.0) for x in bbox]\n",
        "    bboxes.append(bbox)\n",
        "\n",
        "    class_categories.append(int(line[0]))\n",
        "  width, height = img.shape[1], img.shape[0]\n",
        "  image = img\n",
        "\n",
        "  transform = A.Compose([\n",
        "        A.HorizontalFlip(p=0.5),\n",
        "        A.Rotate(limit=30, p=0.2),\n",
        "        A.OneOf([\n",
        "            A.RandomBrightnessContrast(p=0.5),\n",
        "            A.ColorJitter(brightness=0.2, contrast=0.2, saturation=0.2, hue=0.2, p=0.5), # изменение цвета\n",
        "            A.augmentations.transforms.GaussNoise(var_limit=(10,50),mean=0,p=0.5), # шум гаусса\n",
        "            A.augmentations.transforms.CLAHE (clip_limit=4.0, tile_grid_size=(8, 8), always_apply=False, p=0.5)\n",
        "        ], p=0.3),\n",
        "        A.Blur(blur_limit=3, p=0.1), # Размытие\n",
        "        A.augmentations.geometric.transforms.Affine(p=0.1, shear={'x': (-30, 30), 'y': (-30, 30)}),\n",
        "        A.OneOf([\n",
        "            A.augmentations.transforms.ToGray(p=0.2), # оттенки серого\n",
        "            A.RandomRain(brightness_coefficient=0.9, drop_width=1, blur_value=3, p=0.2), # добавляет дождь\n",
        "            A.RandomSnow(brightness_coeff=2.5, snow_point_lower=0.3, snow_point_upper=0.5, p=0.2), #Добавляет снег\n",
        "            A.RandomFog(fog_coef_lower=0.3, fog_coef_upper=0.6, alpha_coef=0.1, p=0.2), # туман\n",
        "            A.RandomSunFlare(flare_roi=(0, 0, 1, 0.5), angle_lower=0.5, p=0.2), # солнечные блики\n",
        "        ],p=0.3),\n",
        "    ], bbox_params=A.BboxParams(format='yolo', min_area = 1024,  min_visibility=0.3, label_fields=['class_categories']))\n",
        "\n",
        "  for j in range(num_augmented_images):\n",
        "      augmented = transform(image=image, bboxes=bboxes,  class_categories=class_categories)\n",
        "      augmented_image = augmented['image']\n",
        "      augmented_bboxes = augmented['bboxes']\n",
        "      augmented_categories = augmented['class_categories']\n",
        "      augmented_images.append(augmented_image)\n",
        "\n",
        "      # Iterate over annotations and save YOLO format annotations\n",
        "      for i in range(len(augmented_bboxes)):\n",
        "          bbox = augmented_bboxes[i]\n",
        "          category_id = augmented_categories[i]\n",
        "          yolo_annotation = f\"{category_id} {bbox[0]} {bbox[1]} {bbox[2]} {bbox[3]}\"\n",
        "\n",
        "          # Create an annotation file for each image\n",
        "          num_im = l+j\n",
        "          annotation_file_name = os.path.join(augmented_labels_directory, (f\"augmented_image_2_{num_im}\" + \".txt\"))\n",
        "          # Write YOLO annotation to file\n",
        "          with open(annotation_file_name, 'a') as f:\n",
        "              f.write(yolo_annotation + '\\n')\n",
        "\n",
        "          cv2.imwrite(os.path.join(augmented_images_directory, f\"augmented_image_2_{num_im}.jpg\"), augmented_image)\n",
        "\n",
        "\n",
        "\n",
        "\n",
        "\n"
      ],
      "metadata": {
        "id": "sND6esyc_P-b",
        "colab": {
          "base_uri": "https://localhost:8080/",
          "height": 408
        },
        "outputId": "7963bd5d-f952-4cfd-83f6-15c3ae7ea850"
      },
      "execution_count": null,
      "outputs": [
        {
          "output_type": "error",
          "ename": "ValueError",
          "evalue": "ignored",
          "traceback": [
            "\u001b[0;31m---------------------------------------------------------------------------\u001b[0m",
            "\u001b[0;31mValueError\u001b[0m                                Traceback (most recent call last)",
            "\u001b[0;32m<ipython-input-45-75c4cdb53deb>\u001b[0m in \u001b[0;36m<cell line: 1>\u001b[0;34m()\u001b[0m\n\u001b[1;32m     40\u001b[0m \u001b[0;34m\u001b[0m\u001b[0m\n\u001b[1;32m     41\u001b[0m   \u001b[0;32mfor\u001b[0m \u001b[0mj\u001b[0m \u001b[0;32min\u001b[0m \u001b[0mrange\u001b[0m\u001b[0;34m(\u001b[0m\u001b[0mnum_augmented_images\u001b[0m\u001b[0;34m)\u001b[0m\u001b[0;34m:\u001b[0m\u001b[0;34m\u001b[0m\u001b[0;34m\u001b[0m\u001b[0m\n\u001b[0;32m---> 42\u001b[0;31m       \u001b[0maugmented\u001b[0m \u001b[0;34m=\u001b[0m \u001b[0mtransform\u001b[0m\u001b[0;34m(\u001b[0m\u001b[0mimage\u001b[0m\u001b[0;34m=\u001b[0m\u001b[0mimage\u001b[0m\u001b[0;34m,\u001b[0m \u001b[0mbboxes\u001b[0m\u001b[0;34m=\u001b[0m\u001b[0mbboxes\u001b[0m\u001b[0;34m,\u001b[0m  \u001b[0mclass_categories\u001b[0m\u001b[0;34m=\u001b[0m\u001b[0mclass_categories\u001b[0m\u001b[0;34m)\u001b[0m\u001b[0;34m\u001b[0m\u001b[0;34m\u001b[0m\u001b[0m\n\u001b[0m\u001b[1;32m     43\u001b[0m       \u001b[0maugmented_image\u001b[0m \u001b[0;34m=\u001b[0m \u001b[0maugmented\u001b[0m\u001b[0;34m[\u001b[0m\u001b[0;34m'image'\u001b[0m\u001b[0;34m]\u001b[0m\u001b[0;34m\u001b[0m\u001b[0;34m\u001b[0m\u001b[0m\n\u001b[1;32m     44\u001b[0m       \u001b[0maugmented_bboxes\u001b[0m \u001b[0;34m=\u001b[0m \u001b[0maugmented\u001b[0m\u001b[0;34m[\u001b[0m\u001b[0;34m'bboxes'\u001b[0m\u001b[0;34m]\u001b[0m\u001b[0;34m\u001b[0m\u001b[0;34m\u001b[0m\u001b[0m\n",
            "\u001b[0;32m/usr/local/lib/python3.10/dist-packages/albumentations/core/composition.py\u001b[0m in \u001b[0;36m__call__\u001b[0;34m(self, force_apply, *args, **data)\u001b[0m\n\u001b[1;32m    205\u001b[0m \u001b[0;34m\u001b[0m\u001b[0m\n\u001b[1;32m    206\u001b[0m         \u001b[0;32mfor\u001b[0m \u001b[0mp\u001b[0m \u001b[0;32min\u001b[0m \u001b[0mself\u001b[0m\u001b[0;34m.\u001b[0m\u001b[0mprocessors\u001b[0m\u001b[0;34m.\u001b[0m\u001b[0mvalues\u001b[0m\u001b[0;34m(\u001b[0m\u001b[0;34m)\u001b[0m\u001b[0;34m:\u001b[0m\u001b[0;34m\u001b[0m\u001b[0;34m\u001b[0m\u001b[0m\n\u001b[0;32m--> 207\u001b[0;31m             \u001b[0mp\u001b[0m\u001b[0;34m.\u001b[0m\u001b[0mpreprocess\u001b[0m\u001b[0;34m(\u001b[0m\u001b[0mdata\u001b[0m\u001b[0;34m)\u001b[0m\u001b[0;34m\u001b[0m\u001b[0;34m\u001b[0m\u001b[0m\n\u001b[0m\u001b[1;32m    208\u001b[0m \u001b[0;34m\u001b[0m\u001b[0m\n\u001b[1;32m    209\u001b[0m         \u001b[0;32mfor\u001b[0m \u001b[0midx\u001b[0m\u001b[0;34m,\u001b[0m \u001b[0mt\u001b[0m \u001b[0;32min\u001b[0m \u001b[0menumerate\u001b[0m\u001b[0;34m(\u001b[0m\u001b[0mtransforms\u001b[0m\u001b[0;34m)\u001b[0m\u001b[0;34m:\u001b[0m\u001b[0;34m\u001b[0m\u001b[0;34m\u001b[0m\u001b[0m\n",
            "\u001b[0;32m/usr/local/lib/python3.10/dist-packages/albumentations/core/utils.py\u001b[0m in \u001b[0;36mpreprocess\u001b[0;34m(self, data)\u001b[0m\n\u001b[1;32m     81\u001b[0m         \u001b[0mrows\u001b[0m\u001b[0;34m,\u001b[0m \u001b[0mcols\u001b[0m \u001b[0;34m=\u001b[0m \u001b[0mdata\u001b[0m\u001b[0;34m[\u001b[0m\u001b[0;34m\"image\"\u001b[0m\u001b[0;34m]\u001b[0m\u001b[0;34m.\u001b[0m\u001b[0mshape\u001b[0m\u001b[0;34m[\u001b[0m\u001b[0;34m:\u001b[0m\u001b[0;36m2\u001b[0m\u001b[0;34m]\u001b[0m\u001b[0;34m\u001b[0m\u001b[0;34m\u001b[0m\u001b[0m\n\u001b[1;32m     82\u001b[0m         \u001b[0;32mfor\u001b[0m \u001b[0mdata_name\u001b[0m \u001b[0;32min\u001b[0m \u001b[0mself\u001b[0m\u001b[0;34m.\u001b[0m\u001b[0mdata_fields\u001b[0m\u001b[0;34m:\u001b[0m\u001b[0;34m\u001b[0m\u001b[0;34m\u001b[0m\u001b[0m\n\u001b[0;32m---> 83\u001b[0;31m             \u001b[0mdata\u001b[0m\u001b[0;34m[\u001b[0m\u001b[0mdata_name\u001b[0m\u001b[0;34m]\u001b[0m \u001b[0;34m=\u001b[0m \u001b[0mself\u001b[0m\u001b[0;34m.\u001b[0m\u001b[0mcheck_and_convert\u001b[0m\u001b[0;34m(\u001b[0m\u001b[0mdata\u001b[0m\u001b[0;34m[\u001b[0m\u001b[0mdata_name\u001b[0m\u001b[0;34m]\u001b[0m\u001b[0;34m,\u001b[0m \u001b[0mrows\u001b[0m\u001b[0;34m,\u001b[0m \u001b[0mcols\u001b[0m\u001b[0;34m,\u001b[0m \u001b[0mdirection\u001b[0m\u001b[0;34m=\u001b[0m\u001b[0;34m\"to\"\u001b[0m\u001b[0;34m)\u001b[0m\u001b[0;34m\u001b[0m\u001b[0;34m\u001b[0m\u001b[0m\n\u001b[0m\u001b[1;32m     84\u001b[0m \u001b[0;34m\u001b[0m\u001b[0m\n\u001b[1;32m     85\u001b[0m     \u001b[0;32mdef\u001b[0m \u001b[0mcheck_and_convert\u001b[0m\u001b[0;34m(\u001b[0m\u001b[0mself\u001b[0m\u001b[0;34m,\u001b[0m \u001b[0mdata\u001b[0m\u001b[0;34m:\u001b[0m \u001b[0mSequence\u001b[0m\u001b[0;34m,\u001b[0m \u001b[0mrows\u001b[0m\u001b[0;34m:\u001b[0m \u001b[0mint\u001b[0m\u001b[0;34m,\u001b[0m \u001b[0mcols\u001b[0m\u001b[0;34m:\u001b[0m \u001b[0mint\u001b[0m\u001b[0;34m,\u001b[0m \u001b[0mdirection\u001b[0m\u001b[0;34m:\u001b[0m \u001b[0mstr\u001b[0m \u001b[0;34m=\u001b[0m \u001b[0;34m\"to\"\u001b[0m\u001b[0;34m)\u001b[0m \u001b[0;34m->\u001b[0m \u001b[0mSequence\u001b[0m\u001b[0;34m:\u001b[0m\u001b[0;34m\u001b[0m\u001b[0;34m\u001b[0m\u001b[0m\n",
            "\u001b[0;32m/usr/local/lib/python3.10/dist-packages/albumentations/core/utils.py\u001b[0m in \u001b[0;36mcheck_and_convert\u001b[0;34m(self, data, rows, cols, direction)\u001b[0m\n\u001b[1;32m     89\u001b[0m \u001b[0;34m\u001b[0m\u001b[0m\n\u001b[1;32m     90\u001b[0m         \u001b[0;32mif\u001b[0m \u001b[0mdirection\u001b[0m \u001b[0;34m==\u001b[0m \u001b[0;34m\"to\"\u001b[0m\u001b[0;34m:\u001b[0m\u001b[0;34m\u001b[0m\u001b[0;34m\u001b[0m\u001b[0m\n\u001b[0;32m---> 91\u001b[0;31m             \u001b[0;32mreturn\u001b[0m \u001b[0mself\u001b[0m\u001b[0;34m.\u001b[0m\u001b[0mconvert_to_albumentations\u001b[0m\u001b[0;34m(\u001b[0m\u001b[0mdata\u001b[0m\u001b[0;34m,\u001b[0m \u001b[0mrows\u001b[0m\u001b[0;34m,\u001b[0m \u001b[0mcols\u001b[0m\u001b[0;34m)\u001b[0m\u001b[0;34m\u001b[0m\u001b[0;34m\u001b[0m\u001b[0m\n\u001b[0m\u001b[1;32m     92\u001b[0m         \u001b[0;32melif\u001b[0m \u001b[0mdirection\u001b[0m \u001b[0;34m==\u001b[0m \u001b[0;34m\"from\"\u001b[0m\u001b[0;34m:\u001b[0m\u001b[0;34m\u001b[0m\u001b[0;34m\u001b[0m\u001b[0m\n\u001b[1;32m     93\u001b[0m             \u001b[0;32mreturn\u001b[0m \u001b[0mself\u001b[0m\u001b[0;34m.\u001b[0m\u001b[0mconvert_from_albumentations\u001b[0m\u001b[0;34m(\u001b[0m\u001b[0mdata\u001b[0m\u001b[0;34m,\u001b[0m \u001b[0mrows\u001b[0m\u001b[0;34m,\u001b[0m \u001b[0mcols\u001b[0m\u001b[0;34m)\u001b[0m\u001b[0;34m\u001b[0m\u001b[0;34m\u001b[0m\u001b[0m\n",
            "\u001b[0;32m/usr/local/lib/python3.10/dist-packages/albumentations/core/bbox_utils.py\u001b[0m in \u001b[0;36mconvert_to_albumentations\u001b[0;34m(self, data, rows, cols)\u001b[0m\n\u001b[1;32m    140\u001b[0m \u001b[0;34m\u001b[0m\u001b[0m\n\u001b[1;32m    141\u001b[0m     \u001b[0;32mdef\u001b[0m \u001b[0mconvert_to_albumentations\u001b[0m\u001b[0;34m(\u001b[0m\u001b[0mself\u001b[0m\u001b[0;34m,\u001b[0m \u001b[0mdata\u001b[0m\u001b[0;34m:\u001b[0m \u001b[0mSequence\u001b[0m\u001b[0;34m[\u001b[0m\u001b[0mBoxType\u001b[0m\u001b[0;34m]\u001b[0m\u001b[0;34m,\u001b[0m \u001b[0mrows\u001b[0m\u001b[0;34m:\u001b[0m \u001b[0mint\u001b[0m\u001b[0;34m,\u001b[0m \u001b[0mcols\u001b[0m\u001b[0;34m:\u001b[0m \u001b[0mint\u001b[0m\u001b[0;34m)\u001b[0m \u001b[0;34m->\u001b[0m \u001b[0mList\u001b[0m\u001b[0;34m[\u001b[0m\u001b[0mBoxType\u001b[0m\u001b[0;34m]\u001b[0m\u001b[0;34m:\u001b[0m\u001b[0;34m\u001b[0m\u001b[0;34m\u001b[0m\u001b[0m\n\u001b[0;32m--> 142\u001b[0;31m         \u001b[0;32mreturn\u001b[0m \u001b[0mconvert_bboxes_to_albumentations\u001b[0m\u001b[0;34m(\u001b[0m\u001b[0mdata\u001b[0m\u001b[0;34m,\u001b[0m \u001b[0mself\u001b[0m\u001b[0;34m.\u001b[0m\u001b[0mparams\u001b[0m\u001b[0;34m.\u001b[0m\u001b[0mformat\u001b[0m\u001b[0;34m,\u001b[0m \u001b[0mrows\u001b[0m\u001b[0;34m,\u001b[0m \u001b[0mcols\u001b[0m\u001b[0;34m,\u001b[0m \u001b[0mcheck_validity\u001b[0m\u001b[0;34m=\u001b[0m\u001b[0;32mTrue\u001b[0m\u001b[0;34m)\u001b[0m\u001b[0;34m\u001b[0m\u001b[0;34m\u001b[0m\u001b[0m\n\u001b[0m\u001b[1;32m    143\u001b[0m \u001b[0;34m\u001b[0m\u001b[0m\n\u001b[1;32m    144\u001b[0m \u001b[0;34m\u001b[0m\u001b[0m\n",
            "\u001b[0;32m/usr/local/lib/python3.10/dist-packages/albumentations/core/bbox_utils.py\u001b[0m in \u001b[0;36mconvert_bboxes_to_albumentations\u001b[0;34m(bboxes, source_format, rows, cols, check_validity)\u001b[0m\n\u001b[1;32m    406\u001b[0m ) -> List[BoxType]:\n\u001b[1;32m    407\u001b[0m     \u001b[0;34m\"\"\"Convert a list bounding boxes from a format specified in `source_format` to the format used by albumentations\"\"\"\u001b[0m\u001b[0;34m\u001b[0m\u001b[0;34m\u001b[0m\u001b[0m\n\u001b[0;32m--> 408\u001b[0;31m     \u001b[0;32mreturn\u001b[0m \u001b[0;34m[\u001b[0m\u001b[0mconvert_bbox_to_albumentations\u001b[0m\u001b[0;34m(\u001b[0m\u001b[0mbbox\u001b[0m\u001b[0;34m,\u001b[0m \u001b[0msource_format\u001b[0m\u001b[0;34m,\u001b[0m \u001b[0mrows\u001b[0m\u001b[0;34m,\u001b[0m \u001b[0mcols\u001b[0m\u001b[0;34m,\u001b[0m \u001b[0mcheck_validity\u001b[0m\u001b[0;34m)\u001b[0m \u001b[0;32mfor\u001b[0m \u001b[0mbbox\u001b[0m \u001b[0;32min\u001b[0m \u001b[0mbboxes\u001b[0m\u001b[0;34m]\u001b[0m\u001b[0;34m\u001b[0m\u001b[0;34m\u001b[0m\u001b[0m\n\u001b[0m\u001b[1;32m    409\u001b[0m \u001b[0;34m\u001b[0m\u001b[0m\n\u001b[1;32m    410\u001b[0m \u001b[0;34m\u001b[0m\u001b[0m\n",
            "\u001b[0;32m/usr/local/lib/python3.10/dist-packages/albumentations/core/bbox_utils.py\u001b[0m in \u001b[0;36m<listcomp>\u001b[0;34m(.0)\u001b[0m\n\u001b[1;32m    406\u001b[0m ) -> List[BoxType]:\n\u001b[1;32m    407\u001b[0m     \u001b[0;34m\"\"\"Convert a list bounding boxes from a format specified in `source_format` to the format used by albumentations\"\"\"\u001b[0m\u001b[0;34m\u001b[0m\u001b[0;34m\u001b[0m\u001b[0m\n\u001b[0;32m--> 408\u001b[0;31m     \u001b[0;32mreturn\u001b[0m \u001b[0;34m[\u001b[0m\u001b[0mconvert_bbox_to_albumentations\u001b[0m\u001b[0;34m(\u001b[0m\u001b[0mbbox\u001b[0m\u001b[0;34m,\u001b[0m \u001b[0msource_format\u001b[0m\u001b[0;34m,\u001b[0m \u001b[0mrows\u001b[0m\u001b[0;34m,\u001b[0m \u001b[0mcols\u001b[0m\u001b[0;34m,\u001b[0m \u001b[0mcheck_validity\u001b[0m\u001b[0;34m)\u001b[0m \u001b[0;32mfor\u001b[0m \u001b[0mbbox\u001b[0m \u001b[0;32min\u001b[0m \u001b[0mbboxes\u001b[0m\u001b[0;34m]\u001b[0m\u001b[0;34m\u001b[0m\u001b[0;34m\u001b[0m\u001b[0m\n\u001b[0m\u001b[1;32m    409\u001b[0m \u001b[0;34m\u001b[0m\u001b[0m\n\u001b[1;32m    410\u001b[0m \u001b[0;34m\u001b[0m\u001b[0m\n",
            "\u001b[0;32m/usr/local/lib/python3.10/dist-packages/albumentations/core/bbox_utils.py\u001b[0m in \u001b[0;36mconvert_bbox_to_albumentations\u001b[0;34m(bbox, source_format, rows, cols, check_validity)\u001b[0m\n\u001b[1;32m    350\u001b[0m         \u001b[0mbbox\u001b[0m \u001b[0;34m=\u001b[0m \u001b[0mnormalize_bbox\u001b[0m\u001b[0;34m(\u001b[0m\u001b[0mbbox\u001b[0m\u001b[0;34m,\u001b[0m \u001b[0mrows\u001b[0m\u001b[0;34m,\u001b[0m \u001b[0mcols\u001b[0m\u001b[0;34m)\u001b[0m\u001b[0;34m\u001b[0m\u001b[0;34m\u001b[0m\u001b[0m\n\u001b[1;32m    351\u001b[0m     \u001b[0;32mif\u001b[0m \u001b[0mcheck_validity\u001b[0m\u001b[0;34m:\u001b[0m\u001b[0;34m\u001b[0m\u001b[0;34m\u001b[0m\u001b[0m\n\u001b[0;32m--> 352\u001b[0;31m         \u001b[0mcheck_bbox\u001b[0m\u001b[0;34m(\u001b[0m\u001b[0mbbox\u001b[0m\u001b[0;34m)\u001b[0m\u001b[0;34m\u001b[0m\u001b[0;34m\u001b[0m\u001b[0m\n\u001b[0m\u001b[1;32m    353\u001b[0m     \u001b[0;32mreturn\u001b[0m \u001b[0mbbox\u001b[0m\u001b[0;34m\u001b[0m\u001b[0;34m\u001b[0m\u001b[0m\n\u001b[1;32m    354\u001b[0m \u001b[0;34m\u001b[0m\u001b[0m\n",
            "\u001b[0;32m/usr/local/lib/python3.10/dist-packages/albumentations/core/bbox_utils.py\u001b[0m in \u001b[0;36mcheck_bbox\u001b[0;34m(bbox)\u001b[0m\n\u001b[1;32m    433\u001b[0m     \u001b[0;32mfor\u001b[0m \u001b[0mname\u001b[0m\u001b[0;34m,\u001b[0m \u001b[0mvalue\u001b[0m \u001b[0;32min\u001b[0m \u001b[0mzip\u001b[0m\u001b[0;34m(\u001b[0m\u001b[0;34m[\u001b[0m\u001b[0;34m\"x_min\"\u001b[0m\u001b[0;34m,\u001b[0m \u001b[0;34m\"y_min\"\u001b[0m\u001b[0;34m,\u001b[0m \u001b[0;34m\"x_max\"\u001b[0m\u001b[0;34m,\u001b[0m \u001b[0;34m\"y_max\"\u001b[0m\u001b[0;34m]\u001b[0m\u001b[0;34m,\u001b[0m \u001b[0mbbox\u001b[0m\u001b[0;34m[\u001b[0m\u001b[0;34m:\u001b[0m\u001b[0;36m4\u001b[0m\u001b[0;34m]\u001b[0m\u001b[0;34m)\u001b[0m\u001b[0;34m:\u001b[0m\u001b[0;34m\u001b[0m\u001b[0;34m\u001b[0m\u001b[0m\n\u001b[1;32m    434\u001b[0m         \u001b[0;32mif\u001b[0m \u001b[0;32mnot\u001b[0m \u001b[0;36m0\u001b[0m \u001b[0;34m<=\u001b[0m \u001b[0mvalue\u001b[0m \u001b[0;34m<=\u001b[0m \u001b[0;36m1\u001b[0m \u001b[0;32mand\u001b[0m \u001b[0;32mnot\u001b[0m \u001b[0mnp\u001b[0m\u001b[0;34m.\u001b[0m\u001b[0misclose\u001b[0m\u001b[0;34m(\u001b[0m\u001b[0mvalue\u001b[0m\u001b[0;34m,\u001b[0m \u001b[0;36m0\u001b[0m\u001b[0;34m)\u001b[0m \u001b[0;32mand\u001b[0m \u001b[0;32mnot\u001b[0m \u001b[0mnp\u001b[0m\u001b[0;34m.\u001b[0m\u001b[0misclose\u001b[0m\u001b[0;34m(\u001b[0m\u001b[0mvalue\u001b[0m\u001b[0;34m,\u001b[0m \u001b[0;36m1\u001b[0m\u001b[0;34m)\u001b[0m\u001b[0;34m:\u001b[0m\u001b[0;34m\u001b[0m\u001b[0;34m\u001b[0m\u001b[0m\n\u001b[0;32m--> 435\u001b[0;31m             \u001b[0;32mraise\u001b[0m \u001b[0mValueError\u001b[0m\u001b[0;34m(\u001b[0m\u001b[0;34mf\"Expected {name} for bbox {bbox} to be in the range [0.0, 1.0], got {value}.\"\u001b[0m\u001b[0;34m)\u001b[0m\u001b[0;34m\u001b[0m\u001b[0;34m\u001b[0m\u001b[0m\n\u001b[0m\u001b[1;32m    436\u001b[0m     \u001b[0mx_min\u001b[0m\u001b[0;34m,\u001b[0m \u001b[0my_min\u001b[0m\u001b[0;34m,\u001b[0m \u001b[0mx_max\u001b[0m\u001b[0;34m,\u001b[0m \u001b[0my_max\u001b[0m \u001b[0;34m=\u001b[0m \u001b[0mbbox\u001b[0m\u001b[0;34m[\u001b[0m\u001b[0;34m:\u001b[0m\u001b[0;36m4\u001b[0m\u001b[0;34m]\u001b[0m\u001b[0;34m\u001b[0m\u001b[0;34m\u001b[0m\u001b[0m\n\u001b[1;32m    437\u001b[0m     \u001b[0;32mif\u001b[0m \u001b[0mx_max\u001b[0m \u001b[0;34m<=\u001b[0m \u001b[0mx_min\u001b[0m\u001b[0;34m:\u001b[0m\u001b[0;34m\u001b[0m\u001b[0;34m\u001b[0m\u001b[0m\n",
            "\u001b[0;31mValueError\u001b[0m: Expected x_min for bbox (-4.999999999996327e-07, 0.254667, 0.010312499999999999, 0.299315, 0) to be in the range [0.0, 1.0], got -4.999999999996327e-07."
          ]
        }
      ]
    },
    {
      "cell_type": "code",
      "source": [
        "#"
      ],
      "metadata": {
        "id": "IhixKQWr4EvX"
      },
      "execution_count": null,
      "outputs": []
    }
  ]
}